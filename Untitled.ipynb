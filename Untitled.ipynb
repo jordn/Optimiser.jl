{
 "cells": [
  {
   "cell_type": "code",
   "execution_count": 23,
   "metadata": {
    "collapsed": false
   },
   "outputs": [
    {
     "data": {
      "text/plain": [
       "2-element Array{Int64,1}:\n",
       "   0\n",
       " -10"
      ]
     },
     "execution_count": 23,
     "metadata": {},
     "output_type": "execute_result"
    }
   ],
   "source": [
    "include(\"Optimiser/nelder_mead.jl\")\n",
    "# using PyPlot\n",
    "# # plot in an external window since it doesn't work yet in IJulia\n",
    "# pygui(true)\n",
    "# # tell PyPlot that the plot is interactive\n",
    "# PyPlot.ion()\n",
    "# # . . . and that previous plots are overwritten\n",
    "# PyPlot.hold(false)\n",
    "# # start time-stepping loop\n",
    "# for n = 1:4\n",
    "#     # plot something\n",
    "#     plot(x, y, color=\"red\", linewidth=n, linestyle=\"--\")\n",
    "\n",
    "#     # Then force the draw\n",
    "#     PyPlot.draw()\n",
    "# end"
   ]
  },
  {
   "cell_type": "code",
   "execution_count": 25,
   "metadata": {
    "collapsed": false
   },
   "outputs": [
    {
     "name": "stderr",
     "output_type": "stream",
     "text": [
      "2016-01-04 20:29:38.201 julia[51201:2281791] setCanCycle: is deprecated.  Please use setCollectionBehavior instead\n",
      "2016-01-04 20:29:38.208 julia[51201:2281791] setCanCycle: is deprecated.  Please use setCollectionBehavior instead\n"
     ]
    },
    {
     "data": {
      "text/plain": [
       "3-element Array{Any,1}:\n",
       " ([0,-9],8101.0)             \n",
       " ([-0.5,-9.25],9027.25)      \n",
       " ([-0.75,-7.375],6303.453125)"
      ]
     },
     "execution_count": 25,
     "metadata": {},
     "output_type": "execute_result"
    }
   ],
   "source": [
    "pts = nelder_mead(rosenbrock, x0; plot=true)"
   ]
  },
  {
   "cell_type": "code",
   "execution_count": 28,
   "metadata": {
    "collapsed": false
   },
   "outputs": [
    {
     "data": {
      "text/plain": [
       "3-element Array{Any,1}:\n",
       " [0,-9]        \n",
       " [-0.5,-9.25]  \n",
       " [-0.75,-7.375]"
      ]
     },
     "execution_count": 28,
     "metadata": {},
     "output_type": "execute_result"
    }
   ],
   "source": [
    "pts\n",
    "x = [pt[1] for pt in pts]"
   ]
  },
  {
   "cell_type": "code",
   "execution_count": 80,
   "metadata": {
    "collapsed": false
   },
   "outputs": [
    {
     "data": {
      "text/plain": [
       "4-element Array{Any,1}:\n",
       " -9    \n",
       " -9.25 \n",
       " -7.375\n",
       " -9    "
      ]
     },
     "execution_count": 80,
     "metadata": {},
     "output_type": "execute_result"
    }
   ],
   "source": [
    "x = [pt[1] for pt in pts]\n",
    "x1 = [pt[1] for pt in x]\n",
    "x2 = [pt[2] for pt in x]\n",
    "x1 = [x1; x1[1]]\n",
    "x2 = [x2; x2[1]]"
   ]
  },
  {
   "cell_type": "code",
   "execution_count": 81,
   "metadata": {
    "collapsed": false
   },
   "outputs": [
    {
     "name": "stderr",
     "output_type": "stream",
     "text": [
      "2016-01-04 20:45:37.445 julia[51201:2281791] setCanCycle: is deprecated.  Please use setCollectionBehavior instead\n",
      "2016-01-04 20:45:37.453 julia[51201:2281791] setCanCycle: is deprecated.  Please use setCollectionBehavior instead\n"
     ]
    }
   ],
   "source": [
    "close();\n",
    "figure();\n",
    "# xlim([-2, 1])\n",
    "# ylim([-10, -6])\n",
    "plot(x1, x2, \"x--\")\n",
    "\n",
    "grid(\"on\")\n",
    "# plot(squeeze(x[2,:],1), \"ro--\")\n"
   ]
  },
  {
   "cell_type": "code",
   "execution_count": 70,
   "metadata": {
    "collapsed": false
   },
   "outputs": [
    {
     "data": {
      "text/plain": [
       "PyObject <matplotlib.axes._subplots.AxesSubplot object at 0x3252d0550>"
      ]
     },
     "execution_count": 70,
     "metadata": {},
     "output_type": "execute_result"
    }
   ],
   "source": [
    "ax= gca()\n",
    "ax"
   ]
  },
  {
   "cell_type": "code",
   "execution_count": 40,
   "metadata": {
    "collapsed": false
   },
   "outputs": [],
   "source": [
    "close()"
   ]
  },
  {
   "cell_type": "code",
   "execution_count": null,
   "metadata": {
    "collapsed": true
   },
   "outputs": [],
   "source": []
  }
 ],
 "metadata": {
  "kernelspec": {
   "display_name": "Julia 0.4.2",
   "language": "julia",
   "name": "julia-0.4"
  },
  "language_info": {
   "file_extension": ".jl",
   "mimetype": "application/julia",
   "name": "julia",
   "version": "0.4.2"
  }
 },
 "nbformat": 4,
 "nbformat_minor": 0
}
